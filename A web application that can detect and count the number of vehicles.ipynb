{
 "cells": [
  {
   "cell_type": "code",
   "execution_count": 34,
   "id": "b6a52989-59fa-42cb-a256-643d26797af6",
   "metadata": {},
   "outputs": [
    {
     "name": "stdout",
     "output_type": "stream",
     "text": [
      "Requirement already satisfied: flask in c:\\users\\lenovo\\anaconda3\\lib\\site-packages (3.0.3)\n",
      "Requirement already satisfied: opencv-python-headless in c:\\users\\lenovo\\anaconda3\\lib\\site-packages (4.10.0.84)\n",
      "Requirement already satisfied: numpy in c:\\users\\lenovo\\anaconda3\\lib\\site-packages (1.26.4)\n",
      "Requirement already satisfied: Werkzeug>=3.0.0 in c:\\users\\lenovo\\anaconda3\\lib\\site-packages (from flask) (3.0.3)\n",
      "Requirement already satisfied: Jinja2>=3.1.2 in c:\\users\\lenovo\\anaconda3\\lib\\site-packages (from flask) (3.1.4)\n",
      "Requirement already satisfied: itsdangerous>=2.1.2 in c:\\users\\lenovo\\anaconda3\\lib\\site-packages (from flask) (2.2.0)\n",
      "Requirement already satisfied: click>=8.1.3 in c:\\users\\lenovo\\anaconda3\\lib\\site-packages (from flask) (8.1.7)\n",
      "Requirement already satisfied: blinker>=1.6.2 in c:\\users\\lenovo\\anaconda3\\lib\\site-packages (from flask) (1.6.2)\n",
      "Requirement already satisfied: colorama in c:\\users\\lenovo\\anaconda3\\lib\\site-packages (from click>=8.1.3->flask) (0.4.6)\n",
      "Requirement already satisfied: MarkupSafe>=2.0 in c:\\users\\lenovo\\anaconda3\\lib\\site-packages (from Jinja2>=3.1.2->flask) (2.1.3)\n",
      "Note: you may need to restart the kernel to use updated packages.\n"
     ]
    }
   ],
   "source": [
    "pip install flask opencv-python-headless numpy"
   ]
  },
  {
   "cell_type": "code",
   "execution_count": 35,
   "id": "42d47e42-9a71-4df9-9c01-8af9753d9d0b",
   "metadata": {},
   "outputs": [
    {
     "ename": "ModuleNotFoundError",
     "evalue": "No module named 'your_script_name'",
     "output_type": "error",
     "traceback": [
      "\u001b[1;31m---------------------------------------------------------------------------\u001b[0m",
      "\u001b[1;31mModuleNotFoundError\u001b[0m                       Traceback (most recent call last)",
      "Cell \u001b[1;32mIn[35], line 1\u001b[0m\n\u001b[1;32m----> 1\u001b[0m \u001b[38;5;28;01mfrom\u001b[39;00m \u001b[38;5;21;01myour_script_name\u001b[39;00m \u001b[38;5;28;01mimport\u001b[39;00m detect_vehicles\n",
      "\u001b[1;31mModuleNotFoundError\u001b[0m: No module named 'your_script_name'"
     ]
    }
   ],
   "source": [
    "from your_script_name import detect_vehicles"
   ]
  },
  {
   "cell_type": "markdown",
   "id": "84588e21-0a87-48fb-9a1f-f97526b3407f",
   "metadata": {},
   "source": [
    "vehicle logic "
   ]
  },
  {
   "cell_type": "code",
   "execution_count": 27,
   "id": "3ad01274-c933-4fe8-92cd-8b17889dc7cd",
   "metadata": {},
   "outputs": [],
   "source": [
    "import cv2\n",
    "import numpy as np\n",
    "\n",
    "def detect_vehicles(video_path):\n",
    "    # Load the pre-trained model and video\n",
    "    net = cv2.dnn.readNet('ssd_mobilenet_v2_coco.pb', 'ssd_mobilenet_v2_coco.pbtxt')\n",
    "    cap = cv2.VideoCapture(video_path)\n",
    "\n",
    "    vehicle_count = {\"cars\": 0, \"bikes\": 0, \"trucks\": 0, \"buses\": 0}\n",
    "\n",
    "    while cap.isOpened():\n",
    "        ret, frame = cap.read()\n",
    "        if not ret:\n",
    "            break\n",
    "\n",
    "        h, w = frame.shape[:2]\n",
    "        blob = cv2.dnn.blobFromImage(frame, 0.007843, (300, 300), 127.5)\n",
    "        net.setInput(blob)\n",
    "        detections = net.forward()\n",
    "\n",
    "        for i in range(detections.shape[2]):\n",
    "            confidence = detections[0, 0, i, 2]\n",
    "            if confidence > 0.5:\n",
    "                class_id = int(detections[0, 0, i, 1])\n",
    "                if class_id == 3:  # Car\n",
    "                    vehicle_count[\"cars\"] += 1\n",
    "                elif class_id == 4:  # Bike\n",
    "                    vehicle_count[\"bikes\"] += 1\n",
    "                elif class_id == 6:  # Bus\n",
    "                    vehicle_count[\"buses\"] += 1\n",
    "                elif class_id == 8:  # Truck\n",
    "                    vehicle_count[\"trucks\"] += 1\n",
    "\n",
    "    cap.release()\n",
    "    return vehicle_count\n"
   ]
  },
  {
   "cell_type": "code",
   "execution_count": 21,
   "id": "f2463194-6c99-4214-88ac-a0781d7e2c9a",
   "metadata": {},
   "outputs": [
    {
     "ename": "ModuleNotFoundError",
     "evalue": "No module named 'detect_vehicles'",
     "output_type": "error",
     "traceback": [
      "\u001b[1;31m---------------------------------------------------------------------------\u001b[0m",
      "\u001b[1;31mModuleNotFoundError\u001b[0m                       Traceback (most recent call last)",
      "Cell \u001b[1;32mIn[21], line 1\u001b[0m\n\u001b[1;32m----> 1\u001b[0m \u001b[38;5;28;01mimport\u001b[39;00m \u001b[38;5;21;01mdetect_vehicles\u001b[39;00m\n",
      "\u001b[1;31mModuleNotFoundError\u001b[0m: No module named 'detect_vehicles'"
     ]
    }
   ],
   "source": [
    "import detect_vehicles\n"
   ]
  },
  {
   "cell_type": "markdown",
   "id": "1f128cf8-ae9b-4c95-b613-f1e8b716e83d",
   "metadata": {},
   "source": [
    "Flask Application"
   ]
  },
  {
   "cell_type": "code",
   "execution_count": 14,
   "id": "c839eb23-a1c4-49e6-b65c-c9dbcedab546",
   "metadata": {},
   "outputs": [],
   "source": [
    "import cv2\n",
    "import numpy as np\n",
    "\n",
    "def detect_vehicles(video_path):\n",
    "    # Specify the correct paths to the model files\n",
    "    model = 'ssd_mobilenet_v2_coco.pb'\n",
    "    config = 'ssd_mobilenet_v2_coco.pbtxt'\n",
    "\n",
    "    # Check if the model files exist\n",
    "    if not os.path.exists(model) or not os.path.exists(config):\n",
    "        print(\"Model files not found. Please check the paths.\")\n",
    "        return\n",
    "\n",
    "    # Load the pre-trained model\n",
    "    net = cv2.dnn.readNet(model, config)\n",
    "    cap = cv2.VideoCapture(video_path)\n",
    "\n",
    "    vehicle_count = {\"cars\": 0, \"bikes\": 0, \"trucks\": 0, \"buses\": 0}\n",
    "\n",
    "    while cap.isOpened():\n",
    "        ret, frame = cap.read()\n",
    "        if not ret:\n",
    "            break\n",
    "\n",
    "        h, w = frame.shape[:2]\n",
    "        blob = cv2.dnn.blobFromImage(frame, 0.007843, (300, 300), 127.5)\n",
    "        net.setInput(blob)\n",
    "        detections = net.forward()\n",
    "\n",
    "        for i in range(detections.shape[2]):\n",
    "            confidence = detections[0, 0, i, 2]\n",
    "            if confidence > 0.5:\n",
    "                class_id = int(detections[0, 0, i, 1])\n",
    "                # Check the class_id and map it to vehicle types\n",
    "                if class_id == 3:  # Car\n",
    "                    vehicle_count[\"cars\"] += 1\n",
    "                elif class_id == 4:  # Bike\n",
    "                    vehicle_count[\"bikes\"] += 1\n",
    "                elif class_id == 6:  # Bus\n",
    "                    vehicle_count[\"buses\"] += 1\n",
    "                elif class_id == 8:  # Truck\n",
    "                    vehicle_count[\"trucks\"] += 1\n",
    "\n",
    "    cap.release()\n",
    "    return vehicle_count\n"
   ]
  },
  {
   "cell_type": "markdown",
   "id": "20c3b7d6-4ab3-4986-9b78-4ccb8f953d04",
   "metadata": {},
   "source": [
    "Building the Flask Application"
   ]
  },
  {
   "cell_type": "code",
   "execution_count": 16,
   "id": "91e61b9c-f852-4f7a-b1ab-55cf84be4a66",
   "metadata": {},
   "outputs": [
    {
     "name": "stdout",
     "output_type": "stream",
     "text": [
      " * Serving Flask app '__main__'\n",
      " * Debug mode: on\n"
     ]
    },
    {
     "name": "stderr",
     "output_type": "stream",
     "text": [
      "WARNING: This is a development server. Do not use it in a production deployment. Use a production WSGI server instead.\n",
      " * Running on http://127.0.0.1:5000\n",
      "Press CTRL+C to quit\n",
      " * Restarting with watchdog (windowsapi)\n"
     ]
    },
    {
     "ename": "SystemExit",
     "evalue": "1",
     "output_type": "error",
     "traceback": [
      "An exception has occurred, use %tb to see the full traceback.\n",
      "\u001b[1;31mSystemExit\u001b[0m\u001b[1;31m:\u001b[0m 1\n"
     ]
    }
   ],
   "source": [
    "from flask import Flask, request, render_template\n",
    "import os\n",
    "\n",
    "app = Flask(__name__)\n",
    "UPLOAD_FOLDER = 'static/uploads/'\n",
    "app.config['UPLOAD_FOLDER'] = UPLOAD_FOLDER\n",
    "\n",
    "@app.route('/', methods=['GET', 'POST'])\n",
    "def index():\n",
    "    if request.method == 'POST':\n",
    "        file = request.files['video']\n",
    "        filepath = os.path.join(app.config['UPLOAD_FOLDER'], file.filename)\n",
    "        file.save(filepath)\n",
    "\n",
    "        vehicle_count = detect_vehicles(filepath)\n",
    "\n",
    "        return render_template('result.html', vehicle_count=vehicle_count)\n",
    "\n",
    "    return render_template('index.html')\n",
    "\n",
    "if __name__ == '__main__':\n",
    "    app.run(debug=True)\n"
   ]
  },
  {
   "cell_type": "code",
   "execution_count": 31,
   "id": "6512a173-eb82-45e0-943d-a13fbc104504",
   "metadata": {},
   "outputs": [
    {
     "ename": "ModuleNotFoundError",
     "evalue": "No module named 'your_script_with_detection'",
     "output_type": "error",
     "traceback": [
      "\u001b[1;31m---------------------------------------------------------------------------\u001b[0m",
      "\u001b[1;31mModuleNotFoundError\u001b[0m                       Traceback (most recent call last)",
      "Cell \u001b[1;32mIn[31], line 3\u001b[0m\n\u001b[0;32m      1\u001b[0m \u001b[38;5;28;01mfrom\u001b[39;00m \u001b[38;5;21;01mflask\u001b[39;00m \u001b[38;5;28;01mimport\u001b[39;00m Flask, request, render_template\n\u001b[0;32m      2\u001b[0m \u001b[38;5;28;01mimport\u001b[39;00m \u001b[38;5;21;01mos\u001b[39;00m\n\u001b[1;32m----> 3\u001b[0m \u001b[38;5;28;01mfrom\u001b[39;00m \u001b[38;5;21;01myour_script_with_detection\u001b[39;00m \u001b[38;5;28;01mimport\u001b[39;00m detect_vehicles\n\u001b[0;32m      5\u001b[0m app \u001b[38;5;241m=\u001b[39m Flask(\u001b[38;5;18m__name__\u001b[39m)\n\u001b[0;32m      6\u001b[0m UPLOAD_FOLDER \u001b[38;5;241m=\u001b[39m \u001b[38;5;124m'\u001b[39m\u001b[38;5;124mstatic/uploads/\u001b[39m\u001b[38;5;124m'\u001b[39m\n",
      "\u001b[1;31mModuleNotFoundError\u001b[0m: No module named 'your_script_with_detection'"
     ]
    }
   ],
   "source": [
    "from flask import Flask, request, render_template\n",
    "import os\n",
    "from your_script_with_detection import detect_vehicles\n",
    "\n",
    "app = Flask(__name__)\n",
    "UPLOAD_FOLDER = 'static/uploads/'\n",
    "app.config['UPLOAD_FOLDER'] = UPLOAD_FOLDER\n",
    "\n",
    "@app.route('/', methods=['GET', 'POST'])\n",
    "def index():\n",
    "    if request.method == 'POST':\n",
    "        file = request.files['video']\n",
    "        filepath = os.path.join(app.config['UPLOAD_FOLDER'], file.filename)\n",
    "        file.save(filepath)\n",
    "\n",
    "        vehicle_count = detect_vehicles(filepath)\n",
    "\n",
    "        return render_template('result.html', vehicle_count=vehicle_count)\n",
    "\n",
    "    return render_template('index.html')\n",
    "\n",
    "if __name__ == '__main__':\n",
    "    app.run(debug=True)\n"
   ]
  },
  {
   "cell_type": "code",
   "execution_count": null,
   "id": "50ecd173-5b79-41b9-a395-4dbacece3505",
   "metadata": {},
   "outputs": [],
   "source": []
  }
 ],
 "metadata": {
  "kernelspec": {
   "display_name": "Python 3 (ipykernel)",
   "language": "python",
   "name": "python3"
  },
  "language_info": {
   "codemirror_mode": {
    "name": "ipython",
    "version": 3
   },
   "file_extension": ".py",
   "mimetype": "text/x-python",
   "name": "python",
   "nbconvert_exporter": "python",
   "pygments_lexer": "ipython3",
   "version": "3.12.4"
  }
 },
 "nbformat": 4,
 "nbformat_minor": 5
}
